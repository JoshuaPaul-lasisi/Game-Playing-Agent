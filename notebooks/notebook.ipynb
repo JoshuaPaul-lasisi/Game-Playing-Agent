{
 "cells": [
  {
   "cell_type": "markdown",
   "metadata": {},
   "source": [
    "# load and process the dataset"
   ]
  },
  {
   "cell_type": "code",
   "execution_count": 1,
   "metadata": {},
   "outputs": [
    {
     "name": "stdout",
     "output_type": "stream",
     "text": [
      "  top-left top-middle top-right middle-left middle-middle middle-right  \\\n",
      "0        x          x         x           x             o            o   \n",
      "1        x          x         x           x             o            o   \n",
      "2        x          x         x           x             o            o   \n",
      "3        x          x         x           x             o            o   \n",
      "4        x          x         x           x             o            o   \n",
      "\n",
      "  bottom-left bottom-middle bottom-right   outcome  \n",
      "0           x             o            o  positive  \n",
      "1           o             x            o  positive  \n",
      "2           o             o            x  positive  \n",
      "3           o             b            b  positive  \n",
      "4           b             o            b  positive  \n"
     ]
    }
   ],
   "source": [
    "import pandas as pd\n",
    "\n",
    "# Load the dataset\n",
    "data = pd.read_csv(\"../data/tic-tac-toe.data\", header=None)\n",
    "data.columns = [\n",
    "    \"top-left\", \"top-middle\", \"top-right\",\n",
    "    \"middle-left\", \"middle-middle\", \"middle-right\",\n",
    "    \"bottom-left\", \"bottom-middle\", \"bottom-right\",\n",
    "    \"outcome\"\n",
    "]\n",
    "\n",
    "# Display the first few rows\n",
    "print(data.head())"
   ]
  },
  {
   "cell_type": "code",
   "execution_count": 3,
   "metadata": {},
   "outputs": [
    {
     "name": "stdout",
     "output_type": "stream",
     "text": [
      "Processed data:\n",
      "[[ 1  1  1  1 -1 -1  1 -1 -1]\n",
      " [ 1  1  1  1 -1 -1 -1  1 -1]\n",
      " [ 1  1  1  1 -1 -1 -1 -1  1]\n",
      " [ 1  1  1  1 -1 -1 -1  0  0]\n",
      " [ 1  1  1  1 -1 -1  0 -1  0]] [1 1 1 1 1]\n"
     ]
    }
   ],
   "source": [
    "# Encode the data\n",
    "mapping = {'x': 1, 'o': -1, 'b': 0, 'positive': 1, 'negative': 0}\n",
    "data = data.replace(mapping).infer_objects(copy=False)\n",
    "\n",
    "# Separate features and target\n",
    "X = data.iloc[:, :-1].values\n",
    "y = data.iloc[:, -1].values\n",
    "\n",
    "print(\"Processed data:\")\n",
    "print(X[:5], y[:5])"
   ]
  },
  {
   "cell_type": "code",
   "execution_count": null,
   "metadata": {},
   "outputs": [],
   "source": []
  }
 ],
 "metadata": {
  "kernelspec": {
   "display_name": "Python 3",
   "language": "python",
   "name": "python3"
  },
  "language_info": {
   "codemirror_mode": {
    "name": "ipython",
    "version": 3
   },
   "file_extension": ".py",
   "mimetype": "text/x-python",
   "name": "python",
   "nbconvert_exporter": "python",
   "pygments_lexer": "ipython3",
   "version": "3.12.1"
  }
 },
 "nbformat": 4,
 "nbformat_minor": 2
}
